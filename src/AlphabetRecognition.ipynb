{
 "cells": [
  {
   "cell_type": "markdown",
   "metadata": {},
   "source": [
    "# Alphabet recognition"
   ]
  },
  {
   "cell_type": "markdown",
   "metadata": {},
   "source": [
    "## Load libraries"
   ]
  },
  {
   "cell_type": "code",
   "execution_count": 31,
   "metadata": {
    "ExecuteTime": {
     "end_time": "2022-03-21T21:11:03.434788Z",
     "start_time": "2022-03-21T21:11:03.416664Z"
    }
   },
   "outputs": [],
   "source": [
    "from collections import deque\n",
    "import numpy as np\n",
    "import cv2 \n",
    "from keras.models import load_model\n",
    "import pyttsx3\n",
    "engine = pyttsx3.init()"
   ]
  },
  {
   "cell_type": "markdown",
   "metadata": {},
   "source": [
    "## Initialize variables"
   ]
  },
  {
   "cell_type": "code",
   "execution_count": 32,
   "metadata": {
    "ExecuteTime": {
     "end_time": "2022-03-21T21:11:13.878434Z",
     "start_time": "2022-03-21T21:11:05.023797Z"
    }
   },
   "outputs": [],
   "source": [
    "model_mlp = load_model('best_model_mlp.hdf5') # MLP Model\n",
    "model_cnn = load_model('best_model_final.hdf5') # CNN Model\n",
    "\n",
    "letters = {0: 'a', 1: 'b', 2: 'c', 3: 'd', 4: 'e', 5: 'f', 6: 'g', 7: 'h', 8: 'i', 9: 'j', 10: 'k', 11: 'l',\n",
    "           12: 'm', 13: 'n', 14: 'o', 15: 'p', 16: 'q', 17: 'r', 18: 's', 19: 't', 20: 'u', 21: 'v', 22: 'w',\n",
    "           23: 'x', 24: 'y', 25: 'z', 26: ''}\n",
    "\n",
    "# Range of red color that will be captured by camera\n",
    "redLower = np.array([170, 100, 60])\n",
    "redUpper = np.array([180, 255, 255])\n",
    "\n",
    "# Structuring element\n",
    "kernel = np.ones((5, 5), np.uint8)\n",
    "\n",
    "# Define blackboard and alphabets\n",
    "blackboard = np.zeros((480, 640, 3), dtype=np.uint8)\n",
    "alphabet = np.zeros((200, 200, 3), dtype=np.uint8)\n",
    "\n",
    "points = deque(maxlen=512)\n",
    "cap = cv2.VideoCapture(0) # camera object\n",
    "prediction_mlp, prediction_cnn = 26, 26"
   ]
  },
  {
   "cell_type": "markdown",
   "metadata": {},
   "source": [
    "## Alphabet detection"
   ]
  },
  {
   "cell_type": "code",
   "execution_count": 33,
   "metadata": {
    "ExecuteTime": {
     "end_time": "2022-03-21T21:12:06.616523Z",
     "start_time": "2022-03-21T21:11:22.039733Z"
    }
   },
   "outputs": [],
   "source": [
    "while True:\n",
    "    ret, frame = cap.read()\n",
    "    # see the proper image while moving our pen\n",
    "    frame = cv2.flip(frame, 1)\n",
    "    # original frame to hsv\n",
    "    hsv = cv2.cvtColor(frame, cv2.COLOR_BGR2HSV)\n",
    "    # original frame to grayscale\n",
    "    gray = cv2.cvtColor(frame, cv2.COLOR_BGR2GRAY)\n",
    "    \n",
    "    # Detecting which pixel value falls under red color boundaries\n",
    "    red = cv2.inRange(hsv, redLower, redUpper)\n",
    "\n",
    "    # Preprocessing the input\n",
    "    red = cv2.erode(red, kernel) # erosion\n",
    "    red = cv2.morphologyEx(red, cv2.MORPH_OPEN, kernel) # opening\n",
    "    red = cv2.dilate(red, kernel) # dilation\n",
    "    \n",
    "    #cv2.imshow('red',red)\n",
    "\n",
    "    # find countours\n",
    "    cnts, _ = cv2.findContours(red, cv2.RETR_EXTERNAL, cv2.CHAIN_APPROX_SIMPLE)\n",
    "    \n",
    "    center = None\n",
    "    # if any countours were found\n",
    "    if len(cnts) > 0:\n",
    "        cnt = sorted(cnts, key=cv2.contourArea, reverse=True)[0]\n",
    "        ((x, y), radius) = cv2.minEnclosingCircle(cnt)\n",
    "        cv2.circle(frame, (int(x), int(y),), int(radius), (125, 344, 278), 2)\n",
    "        \n",
    "        M = cv2.moments(cnt)\n",
    "        center = (int(M['m10'] / M['m00']), int(M['m01'] / M['m00']))\n",
    "        points.appendleft(center)\n",
    "        \n",
    "    # if no countours were found means if there is no red coloured object in the frame\n",
    "    elif len(cnts) == 0:\n",
    "        if len(points) != 0:  #if there are points in deque and we have removed the pen . \n",
    "            blackboard_gray = cv2.cvtColor(blackboard, cv2.COLOR_BGR2GRAY)\n",
    "            blur = cv2.medianBlur(blackboard_gray, 15)\n",
    "            blur = cv2.GaussianBlur(blur, (5, 5), 0)\n",
    "            thresh = cv2.threshold(blur, 0, 255, cv2.THRESH_BINARY + cv2.THRESH_OTSU)[1]\n",
    "            blackboard_cnts = cv2.findContours(thresh, cv2.RETR_TREE, cv2.CHAIN_APPROX_NONE)[0]\n",
    "\n",
    "            if len(blackboard_cnts) >= 1:\n",
    "                cnt = sorted(blackboard_cnts, key=cv2.contourArea, reverse=True)[0]  # first sort all the contours and find the biggest contour\n",
    "\n",
    "                if cv2.contourArea(cnt) > 1000: # If area of the selected countour is greater than 1000, to maintain that there is no noise selected as countour.\n",
    "                    x, y, w, h = cv2.boundingRect(cnt)\n",
    "                    alphabet = blackboard_gray[y - 10:y + h + 10, x - 10:x + w + 10]\n",
    "                    try:\n",
    "                        img = cv2.resize(alphabet, (28, 28))\n",
    "                        cv2.imshow(\"alphabet\", alphabet)  # this is the alphabet image selected that we will give our OCR as an input . \n",
    "                    except cv2.error as e:\n",
    "                        points = deque(maxlen=512)\n",
    "                        blackboard = np.zeros((480, 640, 3), dtype=np.uint8)\n",
    "                        continue\n",
    "\n",
    "                    img = np.array(img)\n",
    "                    img = img.astype('float32') / 255\n",
    "                    # Prediction from MLP\n",
    "                    prediction_mlp = model_mlp.predict(img.reshape(1, 28, 28, 1))[0]\n",
    "                    prediction_mlp = np.argmax(prediction_mlp)\n",
    "                    # Prediction from CNN\n",
    "                    prediction_cnn = model_cnn.predict(img.reshape(1, 28, 28, 1))[0]\n",
    "                    prediction_cnn = np.argmax(prediction_cnn)\n",
    "                    \n",
    "            # Empty the point deque and also blackboard\n",
    "            points = deque(maxlen=512)\n",
    "            blackboard = np.zeros((480, 640, 3), dtype=np.uint8)\n",
    "\n",
    "    # connect the detected points with line\n",
    "    for i in range(1, len(points)):\n",
    "        if points[i - 1] is None or points[i] is None:\n",
    "            continue\n",
    "        cv2.line(frame, points[i - 1], points[i], (0, 0, 0), 2)\n",
    "        cv2.line(blackboard, points[i - 1], points[i], (255, 255, 255), 8)\n",
    "    \n",
    "    cv2.putText(frame, \"MLP Prediction: \" + str(letters[int(prediction_mlp)]), (20, 400), cv2.FONT_HERSHEY_SIMPLEX, 0.8,\n",
    "                (0, 255, 255), 2)\n",
    "    cv2.putText(frame, \"CNN Prediction: \" + str(letters[int(prediction_cnn)]), (20, 450), cv2.FONT_HERSHEY_SIMPLEX, 0.8,\n",
    "                (0, 255, 0), 2)\n",
    "    cv2.imshow(\"Alphabet Detection System\", frame)\n",
    "    if cv2.waitKey(5) == 13:  # break on pressing enter \n",
    "        break\n",
    "cap.release()\n",
    "cv2.destroyAllWindows()"
   ]
  }
 ],
 "metadata": {
  "kernelspec": {
   "display_name": "Python 3",
   "language": "python",
   "name": "python3"
  },
  "language_info": {
   "codemirror_mode": {
    "name": "ipython",
    "version": 3
   },
   "file_extension": ".py",
   "mimetype": "text/x-python",
   "name": "python",
   "nbconvert_exporter": "python",
   "pygments_lexer": "ipython3",
   "version": "3.8.6rc1"
  },
  "toc": {
   "base_numbering": 1,
   "nav_menu": {},
   "number_sections": false,
   "sideBar": true,
   "skip_h1_title": false,
   "title_cell": "Table of Contents",
   "title_sidebar": "Contents",
   "toc_cell": false,
   "toc_position": {},
   "toc_section_display": true,
   "toc_window_display": true
  }
 },
 "nbformat": 4,
 "nbformat_minor": 4
}
